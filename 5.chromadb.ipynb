{
 "cells": [
  {
   "cell_type": "code",
   "execution_count": null,
   "metadata": {},
   "outputs": [],
   "source": [
    "#here im storing the embeddingd to the chromadb and retrieving them based on my search/query"
   ]
  },
  {
   "cell_type": "code",
   "execution_count": 3,
   "metadata": {},
   "outputs": [],
   "source": [
    "import chromadb\n",
    "from chromadb.utils import embedding_functions\n",
    "import pandas as pd"
   ]
  },
  {
   "cell_type": "code",
   "execution_count": 2,
   "metadata": {},
   "outputs": [],
   "source": [
    "# Load your DataFrame directly into memory\n",
    "df_emd = pd.read_csv('chunked_data.csv' ,nrows = 10000)\n",
    "\n",
    "#here i have taken only 10000 rows of my dataset , you can take ur wish , for more better results"
   ]
  },
  {
   "cell_type": "code",
   "execution_count": 5,
   "metadata": {},
   "outputs": [],
   "source": [
    "chroma_client = chromadb.PersistentClient(path=\"my_chromadb\")\n",
    "\n",
    "#it will create an my_chromadb folder in our work directory"
   ]
  },
  {
   "cell_type": "code",
   "execution_count": 6,
   "metadata": {},
   "outputs": [],
   "source": [
    "# using the distilbert-base-nli-mean-tokens model for embedding function\n",
    "sentence_transformer_ef = embedding_functions.SentenceTransformerEmbeddingFunction(model_name=\"distilbert-base-nli-mean-tokens\")\n",
    "collection = chroma_client.get_or_create_collection(name=\"my_collection\", embedding_function=sentence_transformer_ef, metadata={\"hnsw:space\": \"cosine\"})\n"
   ]
  },
  {
   "cell_type": "code",
   "execution_count": 5,
   "metadata": {},
   "outputs": [],
   "source": [
    "collection.add(\n",
    "    documents=df_emd['name'].tolist(),\n",
    "    metadatas=[{\"item_id\": str(idx)} for idx in range(len(df_emd))],\n",
    "    ids=[str(idx) for idx in range(len(df_emd))],\n",
    ")\n",
    "\n",
    "#note: while running this keep you laptop charging , becaz it will heatup !!!..\n",
    "#hm it took me 4 minutes "
   ]
  },
  {
   "cell_type": "markdown",
   "metadata": {},
   "source": [
    "-\tSemantic search engines go beyond simple keyword matching to understand the meaning and context of user queries and documents.\n",
    "\n",
    "based on the query word , it will print the result "
   ]
  },
  {
   "cell_type": "code",
   "execution_count": 10,
   "metadata": {},
   "outputs": [
    {
     "name": "stdout",
     "output_type": "stream",
     "text": [
      "Your search query: love\n",
      " *** lovest.(1997).eng.1cd *** \n",
      " *** love.(1986).eng.1cd *** \n",
      " *** beloved.(1985).eng.1cd *** \n",
      " *** how.sweet.it.is.(1968).eng.1cd *** \n",
      " *** heartsounds.(1984).eng.1cd *** \n",
      " *** youve.got.beautiful.stairs.you.know.(1986).eng.1cd *** \n",
      " *** i.love.maria.(1988).eng.1cd *** \n",
      " *** i.love.maria.(1988).eng.1cd *** \n",
      " *** love.island.s08.e62.episode.62.().eng.1cd *** \n",
      " *** love.island.s08.e62.episode.62.().eng.1cd *** \n"
     ]
    }
   ],
   "source": [
    "# getting user input\n",
    "user_query = input(\"Enter your search query: \")\n",
    "\n",
    "# querying the collection\n",
    "results = collection.query(\n",
    "    query_texts=[user_query],\n",
    "    n_results=10,\n",
    "    include=['documents', 'distances', 'metadatas']\n",
    ")\n",
    "\n",
    "# displaying the user input\n",
    "print(f\"Your search query: {user_query}\")\n",
    "\n",
    "# displaying output documents\n",
    "for document in results['documents'][0]:\n",
    "    print(f\" *** {document} *** \")\n"
   ]
  }
 ],
 "metadata": {
  "kernelspec": {
   "display_name": "ai",
   "language": "python",
   "name": "python3"
  },
  "language_info": {
   "codemirror_mode": {
    "name": "ipython",
    "version": 3
   },
   "file_extension": ".py",
   "mimetype": "text/x-python",
   "name": "python",
   "nbconvert_exporter": "python",
   "pygments_lexer": "ipython3",
   "version": "3.10.14"
  }
 },
 "nbformat": 4,
 "nbformat_minor": 2
}
