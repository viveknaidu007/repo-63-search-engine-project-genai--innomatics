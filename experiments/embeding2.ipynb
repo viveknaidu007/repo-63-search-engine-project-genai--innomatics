{
 "cells": [
  {
   "cell_type": "code",
   "execution_count": 3,
   "metadata": {},
   "outputs": [],
   "source": [
    "import chromadb\n",
    "from chromadb.utils import embedding_functions\n",
    "import pandas as pd\n",
    "from sentence_transformers import SentenceTransformer\n",
    "import torch\n",
    "import joblib"
   ]
  },
  {
   "cell_type": "code",
   "execution_count": 39,
   "metadata": {},
   "outputs": [],
   "source": [
    "df = pd.read_csv(\"../chunked_data.csv\" , nrows=1000)"
   ]
  },
  {
   "cell_type": "code",
   "execution_count": 40,
   "metadata": {},
   "outputs": [
    {
     "data": {
      "text/plain": [
       "(1000, 5)"
      ]
     },
     "execution_count": 40,
     "metadata": {},
     "output_type": "execute_result"
    }
   ],
   "source": [
    "df.shape"
   ]
  },
  {
   "cell_type": "code",
   "execution_count": 41,
   "metadata": {},
   "outputs": [],
   "source": [
    "# Check if GPU is available\n",
    "device = torch.device(\"cuda\" if torch.cuda.is_available() else \"cpu\")"
   ]
  },
  {
   "cell_type": "code",
   "execution_count": 42,
   "metadata": {},
   "outputs": [
    {
     "data": {
      "text/plain": [
       "device(type='cuda')"
      ]
     },
     "execution_count": 42,
     "metadata": {},
     "output_type": "execute_result"
    }
   ],
   "source": [
    "device"
   ]
  },
  {
   "cell_type": "code",
   "execution_count": 43,
   "metadata": {},
   "outputs": [],
   "source": [
    "# Initialize the SentenceTransformer model\n",
    "model = SentenceTransformer('distilbert-base-nli-mean-tokens')\n",
    "model.to(device)  # Move model to GPU if available\n",
    "\n",
    "# Define a function to generate BERT embeddings\n",
    "def get_bert_embeddings(text):\n",
    "    with torch.no_grad():\n",
    "        embeddings = model.encode([text])\n",
    "    return embeddings\n",
    "\n",
    "# Add BERT embeddings column to the DataFrame\n",
    "df['bert_embedding'] = df['chunked_text'].apply(get_bert_embeddings)\n",
    "\n",
    "#for 5 roes = 2.5 seconds\n",
    "#for 10 rows = 2.5 seconds\n",
    "#for 20 rows = \n"
   ]
  },
  {
   "cell_type": "code",
   "execution_count": 45,
   "metadata": {},
   "outputs": [
    {
     "data": {
      "text/html": [
       "<div>\n",
       "<style scoped>\n",
       "    .dataframe tbody tr th:only-of-type {\n",
       "        vertical-align: middle;\n",
       "    }\n",
       "\n",
       "    .dataframe tbody tr th {\n",
       "        vertical-align: top;\n",
       "    }\n",
       "\n",
       "    .dataframe thead th {\n",
       "        text-align: right;\n",
       "    }\n",
       "</style>\n",
       "<table border=\"1\" class=\"dataframe\">\n",
       "  <thead>\n",
       "    <tr style=\"text-align: right;\">\n",
       "      <th></th>\n",
       "      <th>num</th>\n",
       "      <th>name</th>\n",
       "      <th>content</th>\n",
       "      <th>file_content</th>\n",
       "      <th>chunked_text</th>\n",
       "      <th>bert_embedding</th>\n",
       "    </tr>\n",
       "  </thead>\n",
       "  <tbody>\n",
       "    <tr>\n",
       "      <th>995</th>\n",
       "      <td>9185838</td>\n",
       "      <td>the.rising.s01.e05.episode.1.5.(2022).eng.1cd</td>\n",
       "      <td>b'PK\\x03\\x04\\x14\\x00\\x00\\x00\\x08\\x002\\xba\\x99V...</td>\n",
       "      <td>maria all i can think about is neve joan whate...</td>\n",
       "      <td>['maria all i can think about is neve joan wha...</td>\n",
       "      <td>[[-0.5765835, -0.14024329, 0.28995615, -0.4889...</td>\n",
       "    </tr>\n",
       "    <tr>\n",
       "      <th>996</th>\n",
       "      <td>9185839</td>\n",
       "      <td>the.rising.s01.e06.episode.1.6.(2022).eng.1cd</td>\n",
       "      <td>b'PK\\x03\\x04\\x14\\x00\\x00\\x00\\x08\\x00#\\xba\\x99V...</td>\n",
       "      <td>alex he cant even see you neve he can now i do...</td>\n",
       "      <td>['alex he cant even see you neve he can now i ...</td>\n",
       "      <td>[[-0.39805153, -0.09775657, 0.27896366, -0.035...</td>\n",
       "    </tr>\n",
       "    <tr>\n",
       "      <th>997</th>\n",
       "      <td>9185840</td>\n",
       "      <td>the.rising.s01.e07.episode.1.7.(2022).eng.1cd</td>\n",
       "      <td>b'PK\\x03\\x04\\x14\\x00\\x00\\x00\\x08\\x00\\xea\\xa9\\x...</td>\n",
       "      <td>we found traces of blood in room seven of keat...</td>\n",
       "      <td>['we found traces of blood in room seven of ke...</td>\n",
       "      <td>[[-0.2904275, -0.4023079, 0.4591143, -0.758200...</td>\n",
       "    </tr>\n",
       "    <tr>\n",
       "      <th>998</th>\n",
       "      <td>9185841</td>\n",
       "      <td>the.rising.s01.e08.episode.1.8.(2022).eng.1cd</td>\n",
       "      <td>b'PK\\x03\\x04\\x14\\x00\\x00\\x00\\x08\\x00\\x17\\xba\\x...</td>\n",
       "      <td>alex neve neve stop it neve victoria you were ...</td>\n",
       "      <td>['alex neve neve stop it neve victoria you wer...</td>\n",
       "      <td>[[-0.43899527, -0.44110787, 0.058933605, 0.009...</td>\n",
       "    </tr>\n",
       "    <tr>\n",
       "      <th>999</th>\n",
       "      <td>9185844</td>\n",
       "      <td>the.rising.s01.e01.episode.1.1.(2022).eng.1cd</td>\n",
       "      <td>b'PK\\x03\\x04\\x14\\x00\\x00\\x00\\x08\\x00\\x0e\\xaa\\x...</td>\n",
       "      <td>use the free code joinnow at wwwplayshipseu he...</td>\n",
       "      <td>['use the free code joinnow at wwwplayshipseu ...</td>\n",
       "      <td>[[0.09849142, -0.08207184, 0.5981183, -0.61691...</td>\n",
       "    </tr>\n",
       "  </tbody>\n",
       "</table>\n",
       "</div>"
      ],
      "text/plain": [
       "         num                                           name  \\\n",
       "995  9185838  the.rising.s01.e05.episode.1.5.(2022).eng.1cd   \n",
       "996  9185839  the.rising.s01.e06.episode.1.6.(2022).eng.1cd   \n",
       "997  9185840  the.rising.s01.e07.episode.1.7.(2022).eng.1cd   \n",
       "998  9185841  the.rising.s01.e08.episode.1.8.(2022).eng.1cd   \n",
       "999  9185844  the.rising.s01.e01.episode.1.1.(2022).eng.1cd   \n",
       "\n",
       "                                               content  \\\n",
       "995  b'PK\\x03\\x04\\x14\\x00\\x00\\x00\\x08\\x002\\xba\\x99V...   \n",
       "996  b'PK\\x03\\x04\\x14\\x00\\x00\\x00\\x08\\x00#\\xba\\x99V...   \n",
       "997  b'PK\\x03\\x04\\x14\\x00\\x00\\x00\\x08\\x00\\xea\\xa9\\x...   \n",
       "998  b'PK\\x03\\x04\\x14\\x00\\x00\\x00\\x08\\x00\\x17\\xba\\x...   \n",
       "999  b'PK\\x03\\x04\\x14\\x00\\x00\\x00\\x08\\x00\\x0e\\xaa\\x...   \n",
       "\n",
       "                                          file_content  \\\n",
       "995  maria all i can think about is neve joan whate...   \n",
       "996  alex he cant even see you neve he can now i do...   \n",
       "997  we found traces of blood in room seven of keat...   \n",
       "998  alex neve neve stop it neve victoria you were ...   \n",
       "999  use the free code joinnow at wwwplayshipseu he...   \n",
       "\n",
       "                                          chunked_text  \\\n",
       "995  ['maria all i can think about is neve joan wha...   \n",
       "996  ['alex he cant even see you neve he can now i ...   \n",
       "997  ['we found traces of blood in room seven of ke...   \n",
       "998  ['alex neve neve stop it neve victoria you wer...   \n",
       "999  ['use the free code joinnow at wwwplayshipseu ...   \n",
       "\n",
       "                                        bert_embedding  \n",
       "995  [[-0.5765835, -0.14024329, 0.28995615, -0.4889...  \n",
       "996  [[-0.39805153, -0.09775657, 0.27896366, -0.035...  \n",
       "997  [[-0.2904275, -0.4023079, 0.4591143, -0.758200...  \n",
       "998  [[-0.43899527, -0.44110787, 0.058933605, 0.009...  \n",
       "999  [[0.09849142, -0.08207184, 0.5981183, -0.61691...  "
      ]
     },
     "execution_count": 45,
     "metadata": {},
     "output_type": "execute_result"
    }
   ],
   "source": [
    "df.tail()"
   ]
  },
  {
   "cell_type": "code",
   "execution_count": null,
   "metadata": {},
   "outputs": [],
   "source": [
    "import chromadb\n",
    "from chromadb.utils import embedding_functions\n",
    "import pandas as pd\n",
    "from sentence_transformers import SentenceTransformer\n",
    "from sklearn.externals import joblib\n",
    "import torch\n",
    "\n",
    "# Check if GPU is available\n",
    "device = torch.device(\"cuda\" if torch.cuda.is_available() else \"cpu\")\n",
    "\n",
    "# Load the dataset into a DataFrame (adjust nrows as needed)\n",
    "nrows = 5000\n",
    "df = pd.read_csv('your_dataset.csv', nrows=nrows)\n",
    "\n",
    "# Initialize the SentenceTransformer model\n",
    "model = SentenceTransformer('distilbert-base-nli-mean-tokens')\n",
    "model.to(device)  # Move model to GPU if available\n",
    "\n",
    "# Define a function to generate BERT embeddings\n",
    "def get_bert_embeddings(text):\n",
    "    with torch.no_grad():\n",
    "        embeddings = model.encode([text])\n",
    "    return embeddings\n",
    "\n",
    "# Add BERT embeddings column to the DataFrame\n",
    "df['bert_embedding'] = df['chunked_text'].apply(get_bert_embeddings)\n",
    "\n",
    "# Save the DataFrame with embeddings to a file\n",
    "joblib.dump(df, 'embeddings.pkl')\n",
    "print(\"Embeddings saved successfully.\")\n",
    "\n",
    "# Initialize ChromaDB client\n",
    "chroma_client = chromadb.PersistentClient(path=\"my_chromadb\")\n",
    "\n",
    "# Define embedding function\n",
    "sentence_transformer_ef = embedding_functions.SentenceTransformerEmbeddingFunction(model_name=\"distilbert-base-nli-mean-tokens\")\n",
    "\n",
    "# Create or get collection\n",
    "collection = chroma_client.get_or_create_collection(name=\"my_collection\", embedding_function=sentence_transformer_ef)\n",
    "\n",
    "# Add documents and embeddings to the collection\n",
    "documents = df['name'].tolist()\n",
    "embeddings = df['bert_embedding'].tolist()\n",
    "metadatas = df[['name', 'content']].to_dict(orient='records')\n",
    "ids = df.index.tolist()\n",
    "\n",
    "collection.add(\n",
    "    documents=documents,\n",
    "    embeddings=embeddings,\n",
    "    metadatas=metadatas,\n",
    "    ids=ids\n",
    ")\n",
    "\n",
    "# Query for documents similar to a given text\n",
    "query_text = \"your query goes here\"\n",
    "results = collection.query(\n",
    "    query_texts=[query_text],\n",
    "    n_results=10,\n",
    "    include=['documents', 'distances', 'metadatas']\n",
    ")\n",
    "\n",
    "print(results['documents'])\n"
   ]
  }
 ],
 "metadata": {
  "kernelspec": {
   "display_name": "ai",
   "language": "python",
   "name": "python3"
  },
  "language_info": {
   "codemirror_mode": {
    "name": "ipython",
    "version": 3
   },
   "file_extension": ".py",
   "mimetype": "text/x-python",
   "name": "python",
   "nbconvert_exporter": "python",
   "pygments_lexer": "ipython3",
   "version": "3.10.14"
  }
 },
 "nbformat": 4,
 "nbformat_minor": 2
}
