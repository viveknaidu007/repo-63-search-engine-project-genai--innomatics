{
 "cells": [
  {
   "cell_type": "code",
   "execution_count": 1,
   "metadata": {},
   "outputs": [
    {
     "name": "stderr",
     "output_type": "stream",
     "text": [
      "c:\\Users\\poppo\\anaconda3\\envs\\ai\\lib\\site-packages\\tqdm\\auto.py:21: TqdmWarning: IProgress not found. Please update jupyter and ipywidgets. See https://ipywidgets.readthedocs.io/en/stable/user_install.html\n",
      "  from .autonotebook import tqdm as notebook_tqdm\n"
     ]
    }
   ],
   "source": [
    "#experimenting on cpu\n",
    "\n",
    "import torch\n",
    "import pandas as pd\n",
    "from sentence_transformers import SentenceTransformer\n",
    "from sklearn.metrics.pairwise import cosine_similarity\n"
   ]
  },
  {
   "cell_type": "code",
   "execution_count": 13,
   "metadata": {},
   "outputs": [],
   "source": [
    "nrows = 10\n",
    "df = pd.read_csv('../chunked_data.csv', nrows=nrows)\n"
   ]
  },
  {
   "cell_type": "code",
   "execution_count": 14,
   "metadata": {},
   "outputs": [
    {
     "data": {
      "text/html": [
       "<div>\n",
       "<style scoped>\n",
       "    .dataframe tbody tr th:only-of-type {\n",
       "        vertical-align: middle;\n",
       "    }\n",
       "\n",
       "    .dataframe tbody tr th {\n",
       "        vertical-align: top;\n",
       "    }\n",
       "\n",
       "    .dataframe thead th {\n",
       "        text-align: right;\n",
       "    }\n",
       "</style>\n",
       "<table border=\"1\" class=\"dataframe\">\n",
       "  <thead>\n",
       "    <tr style=\"text-align: right;\">\n",
       "      <th></th>\n",
       "      <th>num</th>\n",
       "      <th>name</th>\n",
       "      <th>content</th>\n",
       "      <th>file_content</th>\n",
       "      <th>chunked_text</th>\n",
       "    </tr>\n",
       "  </thead>\n",
       "  <tbody>\n",
       "    <tr>\n",
       "      <th>0</th>\n",
       "      <td>9180533</td>\n",
       "      <td>the.message.(1976).eng.1cd</td>\n",
       "      <td>b'PK\\x03\\x04\\x14\\x00\\x00\\x00\\x08\\x00\\x1c\\xa9\\x...</td>\n",
       "      <td>watch any video online with opensubtitles free...</td>\n",
       "      <td>['watch any video online with opensubtitles fr...</td>\n",
       "    </tr>\n",
       "    <tr>\n",
       "      <th>1</th>\n",
       "      <td>9180583</td>\n",
       "      <td>here.comes.the.grump.s01.e09.joltin.jack.in.bo...</td>\n",
       "      <td>b'PK\\x03\\x04\\x14\\x00\\x00\\x00\\x08\\x00\\x17\\xb9\\x...</td>\n",
       "      <td>ah theres princess dawn and terry with the blo...</td>\n",
       "      <td>['ah theres princess dawn and terry with the b...</td>\n",
       "    </tr>\n",
       "    <tr>\n",
       "      <th>2</th>\n",
       "      <td>9180592</td>\n",
       "      <td>yumis.cells.s02.e13.episode.2.13.(2022).eng.1cd</td>\n",
       "      <td>b'PK\\x03\\x04\\x14\\x00\\x00\\x00\\x08\\x00L\\xb9\\x99V...</td>\n",
       "      <td>yumis cells episode extremely polite yumi yumi...</td>\n",
       "      <td>['yumis cells episode extremely polite yumi yu...</td>\n",
       "    </tr>\n",
       "    <tr>\n",
       "      <th>3</th>\n",
       "      <td>9180594</td>\n",
       "      <td>yumis.cells.s02.e14.episode.2.14.(2022).eng.1cd</td>\n",
       "      <td>b'PK\\x03\\x04\\x14\\x00\\x00\\x00\\x08\\x00U\\xa9\\x99V...</td>\n",
       "      <td>watch any video online with opensubtitles free...</td>\n",
       "      <td>['watch any video online with opensubtitles fr...</td>\n",
       "    </tr>\n",
       "    <tr>\n",
       "      <th>4</th>\n",
       "      <td>9180600</td>\n",
       "      <td>broker.(2022).eng.1cd</td>\n",
       "      <td>b'PK\\x03\\x04\\x14\\x00\\x00\\x00\\x08\\x001\\xa9\\x99V...</td>\n",
       "      <td>watch any video online with opensubtitles free...</td>\n",
       "      <td>['watch any video online with opensubtitles fr...</td>\n",
       "    </tr>\n",
       "  </tbody>\n",
       "</table>\n",
       "</div>"
      ],
      "text/plain": [
       "       num                                               name  \\\n",
       "0  9180533                         the.message.(1976).eng.1cd   \n",
       "1  9180583  here.comes.the.grump.s01.e09.joltin.jack.in.bo...   \n",
       "2  9180592    yumis.cells.s02.e13.episode.2.13.(2022).eng.1cd   \n",
       "3  9180594    yumis.cells.s02.e14.episode.2.14.(2022).eng.1cd   \n",
       "4  9180600                              broker.(2022).eng.1cd   \n",
       "\n",
       "                                             content  \\\n",
       "0  b'PK\\x03\\x04\\x14\\x00\\x00\\x00\\x08\\x00\\x1c\\xa9\\x...   \n",
       "1  b'PK\\x03\\x04\\x14\\x00\\x00\\x00\\x08\\x00\\x17\\xb9\\x...   \n",
       "2  b'PK\\x03\\x04\\x14\\x00\\x00\\x00\\x08\\x00L\\xb9\\x99V...   \n",
       "3  b'PK\\x03\\x04\\x14\\x00\\x00\\x00\\x08\\x00U\\xa9\\x99V...   \n",
       "4  b'PK\\x03\\x04\\x14\\x00\\x00\\x00\\x08\\x001\\xa9\\x99V...   \n",
       "\n",
       "                                        file_content  \\\n",
       "0  watch any video online with opensubtitles free...   \n",
       "1  ah theres princess dawn and terry with the blo...   \n",
       "2  yumis cells episode extremely polite yumi yumi...   \n",
       "3  watch any video online with opensubtitles free...   \n",
       "4  watch any video online with opensubtitles free...   \n",
       "\n",
       "                                        chunked_text  \n",
       "0  ['watch any video online with opensubtitles fr...  \n",
       "1  ['ah theres princess dawn and terry with the b...  \n",
       "2  ['yumis cells episode extremely polite yumi yu...  \n",
       "3  ['watch any video online with opensubtitles fr...  \n",
       "4  ['watch any video online with opensubtitles fr...  "
      ]
     },
     "execution_count": 14,
     "metadata": {},
     "output_type": "execute_result"
    }
   ],
   "source": [
    "df.head()"
   ]
  },
  {
   "cell_type": "code",
   "execution_count": 15,
   "metadata": {},
   "outputs": [
    {
     "data": {
      "text/plain": [
       "(10, 5)"
      ]
     },
     "execution_count": 15,
     "metadata": {},
     "output_type": "execute_result"
    }
   ],
   "source": [
    "df.shape"
   ]
  },
  {
   "cell_type": "code",
   "execution_count": 16,
   "metadata": {},
   "outputs": [],
   "source": [
    "# Define a function to generate BERT embeddings\n",
    "def get_bert_embeddings(text):\n",
    "    model = SentenceTransformer('bert-base-nli-mean-tokens')\n",
    "    embeddings = model.encode([text])\n",
    "    return embeddings\n"
   ]
  },
  {
   "cell_type": "code",
   "execution_count": 17,
   "metadata": {},
   "outputs": [],
   "source": [
    "# Add BERT embeddings column to the DataFrame #for cpu \n",
    "df['bert_embedding'] = df['chunked_text'].apply(get_bert_embeddings)"
   ]
  },
  {
   "cell_type": "code",
   "execution_count": 18,
   "metadata": {},
   "outputs": [
    {
     "data": {
      "text/html": [
       "<div>\n",
       "<style scoped>\n",
       "    .dataframe tbody tr th:only-of-type {\n",
       "        vertical-align: middle;\n",
       "    }\n",
       "\n",
       "    .dataframe tbody tr th {\n",
       "        vertical-align: top;\n",
       "    }\n",
       "\n",
       "    .dataframe thead th {\n",
       "        text-align: right;\n",
       "    }\n",
       "</style>\n",
       "<table border=\"1\" class=\"dataframe\">\n",
       "  <thead>\n",
       "    <tr style=\"text-align: right;\">\n",
       "      <th></th>\n",
       "      <th>num</th>\n",
       "      <th>name</th>\n",
       "      <th>content</th>\n",
       "      <th>file_content</th>\n",
       "      <th>chunked_text</th>\n",
       "      <th>bert_embedding</th>\n",
       "    </tr>\n",
       "  </thead>\n",
       "  <tbody>\n",
       "    <tr>\n",
       "      <th>0</th>\n",
       "      <td>9180533</td>\n",
       "      <td>the.message.(1976).eng.1cd</td>\n",
       "      <td>b'PK\\x03\\x04\\x14\\x00\\x00\\x00\\x08\\x00\\x1c\\xa9\\x...</td>\n",
       "      <td>watch any video online with opensubtitles free...</td>\n",
       "      <td>['watch any video online with opensubtitles fr...</td>\n",
       "      <td>[[-0.1996429, 1.3345942, 0.21567476, -0.323377...</td>\n",
       "    </tr>\n",
       "    <tr>\n",
       "      <th>1</th>\n",
       "      <td>9180583</td>\n",
       "      <td>here.comes.the.grump.s01.e09.joltin.jack.in.bo...</td>\n",
       "      <td>b'PK\\x03\\x04\\x14\\x00\\x00\\x00\\x08\\x00\\x17\\xb9\\x...</td>\n",
       "      <td>ah theres princess dawn and terry with the blo...</td>\n",
       "      <td>['ah theres princess dawn and terry with the b...</td>\n",
       "      <td>[[-0.23995556, 0.75055826, 0.6036775, 0.127224...</td>\n",
       "    </tr>\n",
       "    <tr>\n",
       "      <th>2</th>\n",
       "      <td>9180592</td>\n",
       "      <td>yumis.cells.s02.e13.episode.2.13.(2022).eng.1cd</td>\n",
       "      <td>b'PK\\x03\\x04\\x14\\x00\\x00\\x00\\x08\\x00L\\xb9\\x99V...</td>\n",
       "      <td>yumis cells episode extremely polite yumi yumi...</td>\n",
       "      <td>['yumis cells episode extremely polite yumi yu...</td>\n",
       "      <td>[[-0.24171062, 0.64005613, 1.3918176, 0.171642...</td>\n",
       "    </tr>\n",
       "    <tr>\n",
       "      <th>3</th>\n",
       "      <td>9180594</td>\n",
       "      <td>yumis.cells.s02.e14.episode.2.14.(2022).eng.1cd</td>\n",
       "      <td>b'PK\\x03\\x04\\x14\\x00\\x00\\x00\\x08\\x00U\\xa9\\x99V...</td>\n",
       "      <td>watch any video online with opensubtitles free...</td>\n",
       "      <td>['watch any video online with opensubtitles fr...</td>\n",
       "      <td>[[-0.35540044, 0.85793537, 0.6539227, 0.151122...</td>\n",
       "    </tr>\n",
       "    <tr>\n",
       "      <th>4</th>\n",
       "      <td>9180600</td>\n",
       "      <td>broker.(2022).eng.1cd</td>\n",
       "      <td>b'PK\\x03\\x04\\x14\\x00\\x00\\x00\\x08\\x001\\xa9\\x99V...</td>\n",
       "      <td>watch any video online with opensubtitles free...</td>\n",
       "      <td>['watch any video online with opensubtitles fr...</td>\n",
       "      <td>[[-0.39496154, 0.5206895, 0.78891575, 0.272930...</td>\n",
       "    </tr>\n",
       "  </tbody>\n",
       "</table>\n",
       "</div>"
      ],
      "text/plain": [
       "       num                                               name  \\\n",
       "0  9180533                         the.message.(1976).eng.1cd   \n",
       "1  9180583  here.comes.the.grump.s01.e09.joltin.jack.in.bo...   \n",
       "2  9180592    yumis.cells.s02.e13.episode.2.13.(2022).eng.1cd   \n",
       "3  9180594    yumis.cells.s02.e14.episode.2.14.(2022).eng.1cd   \n",
       "4  9180600                              broker.(2022).eng.1cd   \n",
       "\n",
       "                                             content  \\\n",
       "0  b'PK\\x03\\x04\\x14\\x00\\x00\\x00\\x08\\x00\\x1c\\xa9\\x...   \n",
       "1  b'PK\\x03\\x04\\x14\\x00\\x00\\x00\\x08\\x00\\x17\\xb9\\x...   \n",
       "2  b'PK\\x03\\x04\\x14\\x00\\x00\\x00\\x08\\x00L\\xb9\\x99V...   \n",
       "3  b'PK\\x03\\x04\\x14\\x00\\x00\\x00\\x08\\x00U\\xa9\\x99V...   \n",
       "4  b'PK\\x03\\x04\\x14\\x00\\x00\\x00\\x08\\x001\\xa9\\x99V...   \n",
       "\n",
       "                                        file_content  \\\n",
       "0  watch any video online with opensubtitles free...   \n",
       "1  ah theres princess dawn and terry with the blo...   \n",
       "2  yumis cells episode extremely polite yumi yumi...   \n",
       "3  watch any video online with opensubtitles free...   \n",
       "4  watch any video online with opensubtitles free...   \n",
       "\n",
       "                                        chunked_text  \\\n",
       "0  ['watch any video online with opensubtitles fr...   \n",
       "1  ['ah theres princess dawn and terry with the b...   \n",
       "2  ['yumis cells episode extremely polite yumi yu...   \n",
       "3  ['watch any video online with opensubtitles fr...   \n",
       "4  ['watch any video online with opensubtitles fr...   \n",
       "\n",
       "                                      bert_embedding  \n",
       "0  [[-0.1996429, 1.3345942, 0.21567476, -0.323377...  \n",
       "1  [[-0.23995556, 0.75055826, 0.6036775, 0.127224...  \n",
       "2  [[-0.24171062, 0.64005613, 1.3918176, 0.171642...  \n",
       "3  [[-0.35540044, 0.85793537, 0.6539227, 0.151122...  \n",
       "4  [[-0.39496154, 0.5206895, 0.78891575, 0.272930...  "
      ]
     },
     "execution_count": 18,
     "metadata": {},
     "output_type": "execute_result"
    }
   ],
   "source": [
    "df.head()"
   ]
  },
  {
   "cell_type": "code",
   "execution_count": 20,
   "metadata": {},
   "outputs": [
    {
     "data": {
      "text/plain": [
       "(10, 6)"
      ]
     },
     "execution_count": 20,
     "metadata": {},
     "output_type": "execute_result"
    }
   ],
   "source": [
    "df.shape"
   ]
  },
  {
   "cell_type": "code",
   "execution_count": 21,
   "metadata": {},
   "outputs": [],
   "source": [
    "df.to_csv(\"10rows_Chunked_data.csv\" , index = False)"
   ]
  },
  {
   "cell_type": "code",
   "execution_count": 19,
   "metadata": {},
   "outputs": [],
   "source": [
    "# Check if GPU is available\n",
    "df2 = df\n",
    "\n",
    "device = torch.device(\"cuda\" if torch.cuda.is_available() else \"cpu\")\n",
    "\n",
    "# Add BERT embeddings column to the DataFrame\n",
    "df2['bert_embedding'] = df2['chunked_text'].apply(get_bert_embeddings)"
   ]
  },
  {
   "cell_type": "code",
   "execution_count": 12,
   "metadata": {},
   "outputs": [
    {
     "data": {
      "text/html": [
       "<div>\n",
       "<style scoped>\n",
       "    .dataframe tbody tr th:only-of-type {\n",
       "        vertical-align: middle;\n",
       "    }\n",
       "\n",
       "    .dataframe tbody tr th {\n",
       "        vertical-align: top;\n",
       "    }\n",
       "\n",
       "    .dataframe thead th {\n",
       "        text-align: right;\n",
       "    }\n",
       "</style>\n",
       "<table border=\"1\" class=\"dataframe\">\n",
       "  <thead>\n",
       "    <tr style=\"text-align: right;\">\n",
       "      <th></th>\n",
       "      <th>num</th>\n",
       "      <th>name</th>\n",
       "      <th>content</th>\n",
       "      <th>file_content</th>\n",
       "      <th>chunked_text</th>\n",
       "      <th>bert_embedding</th>\n",
       "    </tr>\n",
       "  </thead>\n",
       "  <tbody>\n",
       "    <tr>\n",
       "      <th>0</th>\n",
       "      <td>9180533</td>\n",
       "      <td>the.message.(1976).eng.1cd</td>\n",
       "      <td>b'PK\\x03\\x04\\x14\\x00\\x00\\x00\\x08\\x00\\x1c\\xa9\\x...</td>\n",
       "      <td>watch any video online with opensubtitles free...</td>\n",
       "      <td>['watch any video online with opensubtitles fr...</td>\n",
       "      <td>[[-0.1996429, 1.3345942, 0.21567476, -0.323377...</td>\n",
       "    </tr>\n",
       "  </tbody>\n",
       "</table>\n",
       "</div>"
      ],
      "text/plain": [
       "       num                        name  \\\n",
       "0  9180533  the.message.(1976).eng.1cd   \n",
       "\n",
       "                                             content  \\\n",
       "0  b'PK\\x03\\x04\\x14\\x00\\x00\\x00\\x08\\x00\\x1c\\xa9\\x...   \n",
       "\n",
       "                                        file_content  \\\n",
       "0  watch any video online with opensubtitles free...   \n",
       "\n",
       "                                        chunked_text  \\\n",
       "0  ['watch any video online with opensubtitles fr...   \n",
       "\n",
       "                                      bert_embedding  \n",
       "0  [[-0.1996429, 1.3345942, 0.21567476, -0.323377...  "
      ]
     },
     "execution_count": 12,
     "metadata": {},
     "output_type": "execute_result"
    }
   ],
   "source": [
    "df2.head()"
   ]
  },
  {
   "cell_type": "code",
   "execution_count": null,
   "metadata": {},
   "outputs": [],
   "source": [
    "#for cpu\n",
    "\n",
    "import torch\n",
    "import pandas as pd\n",
    "from sentence_transformers import SentenceTransformer\n",
    "from sklearn.metrics.pairwise import cosine_similarity\n",
    "\n",
    "# Load the dataset into a DataFrame (adjust nrows as needed)\n",
    "nrows = 5000\n",
    "df = pd.read_csv('your_dataset.csv', nrows=nrows)\n",
    "\n",
    "# Define a function to generate BERT embeddings\n",
    "def get_bert_embeddings(text):\n",
    "    model = SentenceTransformer('bert-base-nli-mean-tokens')\n",
    "    embeddings = model.encode([text])\n",
    "    return embeddings\n",
    "\n",
    "# Add BERT embeddings column to the DataFrame\n",
    "df['bert_embedding'] = df['chunked_text'].apply(get_bert_embeddings)\n",
    "\n",
    "# Define a function for semantic search\n",
    "def semantic_search(query, df):\n",
    "    query_embedding = get_bert_embeddings(query)\n",
    "    similarity_scores = cosine_similarity(list(df['bert_embedding']), [query_embedding])\n",
    "    df['similarity_score'] = similarity_scores\n",
    "    sorted_df = df.sort_values(by='similarity_score', ascending=False)\n",
    "    return sorted_df[['name', 'content', 'similarity_score']]\n",
    "\n",
    "# Example usage:\n",
    "query = \"your query goes here\"\n",
    "results = semantic_search(query, df)\n",
    "print(results.head(10))  # Print top 10 most relevant documents\n"
   ]
  },
  {
   "cell_type": "code",
   "execution_count": null,
   "metadata": {},
   "outputs": [],
   "source": [
    "import torch\n",
    "import pandas as pd\n",
    "from sentence_transformers import SentenceTransformer\n",
    "from sklearn.metrics.pairwise import cosine_similarity\n",
    "\n",
    "# Check if GPU is available\n",
    "device = torch.device(\"cuda\" if torch.cuda.is_available() else \"cpu\")\n",
    "\n",
    "# Load the dataset into a DataFrame (adjust nrows as needed)\n",
    "nrows = 5000\n",
    "df = pd.read_csv('your_dataset.csv', nrows=nrows)\n",
    "\n",
    "# Define a function to generate BERT embeddings\n",
    "def get_bert_embeddings(text):\n",
    "    model = SentenceTransformer('bert-base-nli-mean-tokens')\n",
    "    model.to(device)  # Move model to GPU if available\n",
    "    embeddings = model.encode([text])\n",
    "    return embeddings\n",
    "\n",
    "# Add BERT embeddings column to the DataFrame\n",
    "df['bert_embedding'] = df['chunked_text'].apply(get_bert_embeddings)\n",
    "\n",
    "# Define a function for semantic search\n",
    "def semantic_search(query, df):\n",
    "    query_embedding = get_bert_embeddings(query)\n",
    "    similarity_scores = cosine_similarity(list(df['bert_embedding']), [query_embedding])\n",
    "    df['similarity_score'] = similarity_scores\n",
    "    sorted_df = df.sort_values(by='similarity_score', ascending=False)\n",
    "    return sorted_df[['name', 'content', 'similarity_score']]\n",
    "\n",
    "# Example usage:\n",
    "query = \"your query goes here\"\n",
    "results = semantic_search(query, df)\n",
    "print(results.head(10))  # Print top 10 most relevant documents\n"
   ]
  }
 ],
 "metadata": {
  "kernelspec": {
   "display_name": "ai",
   "language": "python",
   "name": "python3"
  },
  "language_info": {
   "codemirror_mode": {
    "name": "ipython",
    "version": 3
   },
   "file_extension": ".py",
   "mimetype": "text/x-python",
   "name": "python",
   "nbconvert_exporter": "python",
   "pygments_lexer": "ipython3",
   "version": "3.10.14"
  }
 },
 "nbformat": 4,
 "nbformat_minor": 2
}
